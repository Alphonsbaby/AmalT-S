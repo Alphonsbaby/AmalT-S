{
 "cells": [
  {
   "cell_type": "markdown",
   "id": "7c69ed0c",
   "metadata": {},
   "source": [
    "# Bubble Sort"
   ]
  },
  {
   "cell_type": "code",
   "execution_count": 1,
   "id": "24333fbd",
   "metadata": {},
   "outputs": [],
   "source": [
    "import numpy as np"
   ]
  },
  {
   "cell_type": "code",
   "execution_count": 16,
   "id": "1181b94a",
   "metadata": {},
   "outputs": [
    {
     "name": "stdout",
     "output_type": "stream",
     "text": [
      "\n",
      "sorted array is:\n",
      "12345"
     ]
    }
   ],
   "source": [
    "a = np.array([5,3,1,2,4])\n",
    "# print(\"Before sorting elements are:\")\n",
    "# for i in a:\n",
    "#   print(i,end=\"\")\n",
    "for i in range(0,len(a)):\n",
    "    for j in range(i+1,len(a)):\n",
    "      if a[j]<a[i]:\n",
    "        temp = a[j]\n",
    "        a[j]=a[i]\n",
    "        a[i]=temp\n",
    "print(\"\\nsorted array is:\")\n",
    "for i in a:\n",
    "  print(i,end=\"\")"
   ]
  },
  {
   "cell_type": "code",
   "execution_count": null,
   "id": "eea54b4a",
   "metadata": {},
   "outputs": [],
   "source": []
  }
 ],
 "metadata": {
  "kernelspec": {
   "display_name": "Python 3 (ipykernel)",
   "language": "python",
   "name": "python3"
  },
  "language_info": {
   "codemirror_mode": {
    "name": "ipython",
    "version": 3
   },
   "file_extension": ".py",
   "mimetype": "text/x-python",
   "name": "python",
   "nbconvert_exporter": "python",
   "pygments_lexer": "ipython3",
   "version": "3.9.7"
  }
 },
 "nbformat": 4,
 "nbformat_minor": 5
}
